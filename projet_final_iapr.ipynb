{
  "nbformat": 4,
  "nbformat_minor": 0,
  "metadata": {
    "colab": {
      "name": "projet_final_iapr.ipynb",
      "provenance": [],
      "collapsed_sections": [],
      "mount_file_id": "1LE2_CLb0S-7VWKtI9DZAMNVKHtWPFs6z",
      "authorship_tag": "ABX9TyNFSYayZA4tHETw9UfEIWSZ",
      "include_colab_link": true
    },
    "kernelspec": {
      "name": "python3",
      "display_name": "Python 3"
    },
    "language_info": {
      "name": "python"
    }
  },
  "cells": [
    {
      "cell_type": "markdown",
      "metadata": {
        "id": "view-in-github",
        "colab_type": "text"
      },
      "source": [
        "<a href=\"https://colab.research.google.com/github/sfekih/2020/blob/master/projet_final_iapr.ipynb\" target=\"_parent\"><img src=\"https://colab.research.google.com/assets/colab-badge.svg\" alt=\"Open In Colab\"/></a>"
      ]
    },
    {
      "cell_type": "code",
      "metadata": {
        "id": "hgg-Pko0LYfc"
      },
      "source": [
        "import os"
      ],
      "execution_count": 1,
      "outputs": []
    },
    {
      "cell_type": "code",
      "metadata": {
        "colab": {
          "base_uri": "https://localhost:8080/"
        },
        "id": "_lNWKXHILf8X",
        "outputId": "50ac9d30-5192-41ad-b4c9-bd6045d4f658"
      },
      "source": [
        "from google.colab import drive\n",
        "drive.mount('/content/drive')\n",
        "PROJECT_PATH = os.path.join('drive', 'My Drive', 'Colab Notebooks', 'iapr', 'train_games')"
      ],
      "execution_count": 2,
      "outputs": [
        {
          "output_type": "stream",
          "text": [
            "Drive already mounted at /content/drive; to attempt to forcibly remount, call drive.mount(\"/content/drive\", force_remount=True).\n"
          ],
          "name": "stdout"
        }
      ]
    },
    {
      "cell_type": "code",
      "metadata": {
        "colab": {
          "base_uri": "https://localhost:8080/"
        },
        "id": "vL5pu0gzLh9d",
        "outputId": "3abb9cc4-8578-4c31-cf50-1c487af959bd"
      },
      "source": [
        "os.chdir(PROJECT_PATH)\n",
        "!pwd"
      ],
      "execution_count": 3,
      "outputs": [
        {
          "output_type": "stream",
          "text": [
            "/content/drive/My Drive/Colab Notebooks/iapr/train_games\n"
          ],
          "name": "stdout"
        }
      ]
    },
    {
      "cell_type": "code",
      "metadata": {
        "colab": {
          "base_uri": "https://localhost:8080/"
        },
        "id": "bYqg39OYLwMV",
        "outputId": "c73a9489-95c2-4eab-bab6-81d5efe7a724"
      },
      "source": [
        "ls"
      ],
      "execution_count": 4,
      "outputs": [
        {
          "output_type": "stream",
          "text": [
            "\u001b[0m\u001b[01;34mgame1\u001b[0m/  \u001b[01;34mgame2\u001b[0m/  \u001b[01;34mgame3\u001b[0m/  \u001b[01;34mgame4\u001b[0m/  \u001b[01;34mgame5\u001b[0m/  \u001b[01;34mgame6\u001b[0m/  \u001b[01;34mgame7\u001b[0m/\n"
          ],
          "name": "stdout"
        }
      ]
    },
    {
      "cell_type": "code",
      "metadata": {
        "colab": {
          "base_uri": "https://localhost:8080/"
        },
        "id": "EoWbkq1PPwIf",
        "outputId": "1724dbd0-e102-4fc3-f6c0-714bfa9e94d1"
      },
      "source": [
        "cd 'game1'"
      ],
      "execution_count": 5,
      "outputs": [
        {
          "output_type": "stream",
          "text": [
            "/content/drive/My Drive/Colab Notebooks/iapr/train_games/game1\n"
          ],
          "name": "stdout"
        }
      ]
    },
    {
      "cell_type": "code",
      "metadata": {
        "colab": {
          "base_uri": "https://localhost:8080/"
        },
        "id": "7pjyD2jQPxYm",
        "outputId": "86a7190e-c9e2-4d47-e0d9-e039dc2a0250"
      },
      "source": [
        "ls"
      ],
      "execution_count": 6,
      "outputs": [
        {
          "output_type": "stream",
          "text": [
            "10.jpg  12.jpg  1.jpg  3.jpg  5.jpg  7.jpg  9.jpg      green.png\n",
            "11.jpg  13.jpg  2.jpg  4.jpg  6.jpg  8.jpg  game1.csv  image.png\n"
          ],
          "name": "stdout"
        }
      ]
    },
    {
      "cell_type": "code",
      "metadata": {
        "id": "l7ggQawBQLyv"
      },
      "source": [
        "import pandas as pd\n",
        "import numpy as np\n",
        "\n",
        "from PIL import Image\n",
        "from scipy.spatial import distance_matrix\n"
      ],
      "execution_count": 7,
      "outputs": []
    },
    {
      "cell_type": "code",
      "metadata": {
        "id": "6wwxei40QPn_"
      },
      "source": [
        "data_game_1 = pd.read_csv('game1.csv')"
      ],
      "execution_count": 8,
      "outputs": []
    },
    {
      "cell_type": "code",
      "metadata": {
        "id": "m1MuAozGaj8D"
      },
      "source": [
        ""
      ],
      "execution_count": 8,
      "outputs": []
    },
    {
      "cell_type": "code",
      "metadata": {
        "colab": {
          "base_uri": "https://localhost:8080/",
          "height": 457
        },
        "id": "xi1Z1-fKQV2P",
        "outputId": "b61f62cd-5f9d-45b8-e400-d73091ba881e"
      },
      "source": [
        "def separate_columns(row) :\n",
        "  row['P1_suit'] = row.P1[1]\n",
        "  row['P1_digit'] = row.P1[0]\n",
        "  row['P2_suit'] = row.P2[1]\n",
        "  row['P2_digit'] = row.P2[0]\n",
        "  row['P3_suit'] = row.P3[1]\n",
        "  row['P3_digit'] = row.P3[0]\n",
        "  row['P4_digit'] = row.P4[1]\n",
        "  row['P4_suit'] = row.P4[0]\n",
        "  return row\n",
        "data_game_preprocessed = data_game_1.apply(lambda x: separate_columns(x), axis=1)\\\n",
        "                                    .drop(columns={'P1', 'P2', 'P3', 'P4'})\\\n",
        "                                    .rename(columns={'Unnamed: 0':'round_nb'})\n",
        "data_game_preprocessed"
      ],
      "execution_count": 9,
      "outputs": [
        {
          "output_type": "execute_result",
          "data": {
            "text/html": [
              "<div>\n",
              "<style scoped>\n",
              "    .dataframe tbody tr th:only-of-type {\n",
              "        vertical-align: middle;\n",
              "    }\n",
              "\n",
              "    .dataframe tbody tr th {\n",
              "        vertical-align: top;\n",
              "    }\n",
              "\n",
              "    .dataframe thead th {\n",
              "        text-align: right;\n",
              "    }\n",
              "</style>\n",
              "<table border=\"1\" class=\"dataframe\">\n",
              "  <thead>\n",
              "    <tr style=\"text-align: right;\">\n",
              "      <th></th>\n",
              "      <th>round_nb</th>\n",
              "      <th>D</th>\n",
              "      <th>P1_suit</th>\n",
              "      <th>P1_digit</th>\n",
              "      <th>P2_suit</th>\n",
              "      <th>P2_digit</th>\n",
              "      <th>P3_suit</th>\n",
              "      <th>P3_digit</th>\n",
              "      <th>P4_digit</th>\n",
              "      <th>P4_suit</th>\n",
              "    </tr>\n",
              "  </thead>\n",
              "  <tbody>\n",
              "    <tr>\n",
              "      <th>0</th>\n",
              "      <td>1</td>\n",
              "      <td>1</td>\n",
              "      <td>S</td>\n",
              "      <td>Q</td>\n",
              "      <td>H</td>\n",
              "      <td>8</td>\n",
              "      <td>H</td>\n",
              "      <td>J</td>\n",
              "      <td>S</td>\n",
              "      <td>0</td>\n",
              "    </tr>\n",
              "    <tr>\n",
              "      <th>1</th>\n",
              "      <td>2</td>\n",
              "      <td>1</td>\n",
              "      <td>S</td>\n",
              "      <td>5</td>\n",
              "      <td>S</td>\n",
              "      <td>J</td>\n",
              "      <td>C</td>\n",
              "      <td>9</td>\n",
              "      <td>D</td>\n",
              "      <td>K</td>\n",
              "    </tr>\n",
              "    <tr>\n",
              "      <th>2</th>\n",
              "      <td>3</td>\n",
              "      <td>1</td>\n",
              "      <td>D</td>\n",
              "      <td>1</td>\n",
              "      <td>H</td>\n",
              "      <td>3</td>\n",
              "      <td>C</td>\n",
              "      <td>7</td>\n",
              "      <td>D</td>\n",
              "      <td>3</td>\n",
              "    </tr>\n",
              "    <tr>\n",
              "      <th>3</th>\n",
              "      <td>4</td>\n",
              "      <td>1</td>\n",
              "      <td>S</td>\n",
              "      <td>1</td>\n",
              "      <td>D</td>\n",
              "      <td>J</td>\n",
              "      <td>S</td>\n",
              "      <td>4</td>\n",
              "      <td>C</td>\n",
              "      <td>4</td>\n",
              "    </tr>\n",
              "    <tr>\n",
              "      <th>4</th>\n",
              "      <td>5</td>\n",
              "      <td>1</td>\n",
              "      <td>D</td>\n",
              "      <td>0</td>\n",
              "      <td>S</td>\n",
              "      <td>6</td>\n",
              "      <td>C</td>\n",
              "      <td>3</td>\n",
              "      <td>C</td>\n",
              "      <td>2</td>\n",
              "    </tr>\n",
              "    <tr>\n",
              "      <th>5</th>\n",
              "      <td>6</td>\n",
              "      <td>1</td>\n",
              "      <td>S</td>\n",
              "      <td>8</td>\n",
              "      <td>D</td>\n",
              "      <td>9</td>\n",
              "      <td>S</td>\n",
              "      <td>3</td>\n",
              "      <td>S</td>\n",
              "      <td>K</td>\n",
              "    </tr>\n",
              "    <tr>\n",
              "      <th>6</th>\n",
              "      <td>7</td>\n",
              "      <td>1</td>\n",
              "      <td>D</td>\n",
              "      <td>4</td>\n",
              "      <td>H</td>\n",
              "      <td>7</td>\n",
              "      <td>D</td>\n",
              "      <td>7</td>\n",
              "      <td>H</td>\n",
              "      <td>6</td>\n",
              "    </tr>\n",
              "    <tr>\n",
              "      <th>7</th>\n",
              "      <td>8</td>\n",
              "      <td>1</td>\n",
              "      <td>C</td>\n",
              "      <td>0</td>\n",
              "      <td>C</td>\n",
              "      <td>K</td>\n",
              "      <td>S</td>\n",
              "      <td>9</td>\n",
              "      <td>C</td>\n",
              "      <td>8</td>\n",
              "    </tr>\n",
              "    <tr>\n",
              "      <th>8</th>\n",
              "      <td>9</td>\n",
              "      <td>1</td>\n",
              "      <td>D</td>\n",
              "      <td>5</td>\n",
              "      <td>H</td>\n",
              "      <td>5</td>\n",
              "      <td>H</td>\n",
              "      <td>1</td>\n",
              "      <td>S</td>\n",
              "      <td>7</td>\n",
              "    </tr>\n",
              "    <tr>\n",
              "      <th>9</th>\n",
              "      <td>10</td>\n",
              "      <td>1</td>\n",
              "      <td>H</td>\n",
              "      <td>Q</td>\n",
              "      <td>C</td>\n",
              "      <td>Q</td>\n",
              "      <td>D</td>\n",
              "      <td>6</td>\n",
              "      <td>H</td>\n",
              "      <td>9</td>\n",
              "    </tr>\n",
              "    <tr>\n",
              "      <th>10</th>\n",
              "      <td>11</td>\n",
              "      <td>1</td>\n",
              "      <td>H</td>\n",
              "      <td>4</td>\n",
              "      <td>D</td>\n",
              "      <td>2</td>\n",
              "      <td>C</td>\n",
              "      <td>J</td>\n",
              "      <td>D</td>\n",
              "      <td>Q</td>\n",
              "    </tr>\n",
              "    <tr>\n",
              "      <th>11</th>\n",
              "      <td>12</td>\n",
              "      <td>1</td>\n",
              "      <td>C</td>\n",
              "      <td>6</td>\n",
              "      <td>D</td>\n",
              "      <td>8</td>\n",
              "      <td>H</td>\n",
              "      <td>2</td>\n",
              "      <td>H</td>\n",
              "      <td>K</td>\n",
              "    </tr>\n",
              "    <tr>\n",
              "      <th>12</th>\n",
              "      <td>13</td>\n",
              "      <td>1</td>\n",
              "      <td>C</td>\n",
              "      <td>1</td>\n",
              "      <td>C</td>\n",
              "      <td>5</td>\n",
              "      <td>H</td>\n",
              "      <td>0</td>\n",
              "      <td>S</td>\n",
              "      <td>2</td>\n",
              "    </tr>\n",
              "  </tbody>\n",
              "</table>\n",
              "</div>"
            ],
            "text/plain": [
              "    round_nb  D P1_suit P1_digit  ... P3_suit P3_digit P4_digit P4_suit\n",
              "0          1  1       S        Q  ...       H        J        S       0\n",
              "1          2  1       S        5  ...       C        9        D       K\n",
              "2          3  1       D        1  ...       C        7        D       3\n",
              "3          4  1       S        1  ...       S        4        C       4\n",
              "4          5  1       D        0  ...       C        3        C       2\n",
              "5          6  1       S        8  ...       S        3        S       K\n",
              "6          7  1       D        4  ...       D        7        H       6\n",
              "7          8  1       C        0  ...       S        9        C       8\n",
              "8          9  1       D        5  ...       H        1        S       7\n",
              "9         10  1       H        Q  ...       D        6        H       9\n",
              "10        11  1       H        4  ...       C        J        D       Q\n",
              "11        12  1       C        6  ...       H        2        H       K\n",
              "12        13  1       C        1  ...       H        0        S       2\n",
              "\n",
              "[13 rows x 10 columns]"
            ]
          },
          "metadata": {
            "tags": []
          },
          "execution_count": 9
        }
      ]
    },
    {
      "cell_type": "code",
      "metadata": {
        "id": "LnwOAE40b1Hl"
      },
      "source": [
        "#pip install Pillow\n",
        "from PIL import Image\n",
        "# Open the image form working directory\n",
        "image = Image.open('1.jpg')"
      ],
      "execution_count": 10,
      "outputs": []
    },
    {
      "cell_type": "code",
      "metadata": {
        "colab": {
          "base_uri": "https://localhost:8080/"
        },
        "id": "Q9n8zQ9SQXf3",
        "outputId": "68501730-c3eb-4915-b4f0-442cf4ecf7e4"
      },
      "source": [
        "data = np.asarray(image)\n",
        "data.shape "
      ],
      "execution_count": 11,
      "outputs": [
        {
          "output_type": "execute_result",
          "data": {
            "text/plain": [
              "(4608, 3456, 3)"
            ]
          },
          "metadata": {
            "tags": []
          },
          "execution_count": 11
        }
      ]
    },
    {
      "cell_type": "code",
      "metadata": {
        "id": "GRtFnK0ZcD8r"
      },
      "source": [
        "import cv2\n",
        "import matplotlib.pyplot as plt\n"
      ],
      "execution_count": 12,
      "outputs": []
    },
    {
      "cell_type": "code",
      "metadata": {
        "id": "U827hLul30P6"
      },
      "source": [
        "#read as BGR\n",
        "img = cv2.imread(\"1.jpg\")\n"
      ],
      "execution_count": 13,
      "outputs": []
    },
    {
      "cell_type": "code",
      "metadata": {
        "colab": {
          "base_uri": "https://localhost:8080/",
          "height": 286
        },
        "id": "MJ46eOx2FqVB",
        "outputId": "2449168d-afc4-4ca6-851f-b57a6056c9ef"
      },
      "source": [
        "plt.imshow(cv2.cvtColor(img, cv2.COLOR_BGR2RGB))"
      ],
      "execution_count": 14,
      "outputs": [
        {
          "output_type": "execute_result",
          "data": {
            "text/plain": [
              "<matplotlib.image.AxesImage at 0x7f761a856650>"
            ]
          },
          "metadata": {
            "tags": []
          },
          "execution_count": 14
        },
        {
          "output_type": "display_data",
          "data": {
            "image/png": "[encoded data removed]",
            "text/plain": [
              "<Figure size 432x288 with 1 Axes>"
            ]
          },
          "metadata": {
            "tags": [],
            "needs_background": "light"
          }
        }
      ]
    },
    {
      "cell_type": "code",
      "metadata": {
        "id": "KEy2NP-odsnE"
      },
      "source": [
        "\n",
        "## convert to hsv\n",
        "hsv = cv2.cvtColor(img, cv2.COLOR_BGR2HSV)\n",
        "\n",
        "## mask of green (36,25,25) ~ (86, 255,255)\n",
        "# mask = cv2.inRange(hsv, (36, 25, 25), (86, 255,255))\n",
        "mask = cv2.inRange(hsv, (36, 25, 25), (70, 255,255))\n",
        "\n",
        "## slice the green\n",
        "imask = mask>0\n",
        "green = np.zeros_like(img, np.uint8)\n",
        "green[imask] = 255\n"
      ],
      "execution_count": 15,
      "outputs": []
    },
    {
      "cell_type": "code",
      "metadata": {
        "id": "9kc0FMFJk2u9",
        "colab": {
          "base_uri": "https://localhost:8080/",
          "height": 286
        },
        "outputId": "bb218b7a-a743-4f82-ec34-9c6594e87ca0"
      },
      "source": [
        "plt.imshow(hsv)"
      ],
      "execution_count": 16,
      "outputs": [
        {
          "output_type": "execute_result",
          "data": {
            "text/plain": [
              "<matplotlib.image.AxesImage at 0x7f761a33f810>"
            ]
          },
          "metadata": {
            "tags": []
          },
          "execution_count": 16
        },
        {
          "output_type": "display_data",
          "data": {
            "image/png": "[encoded data removed]",
            "text/plain": [
              "<Figure size 432x288 with 1 Axes>"
            ]
          },
          "metadata": {
            "tags": [],
            "needs_background": "light"
          }
        }
      ]
    },
    {
      "cell_type": "code",
      "metadata": {
        "colab": {
          "base_uri": "https://localhost:8080/",
          "height": 286
        },
        "id": "gVaUwTpGdzbD",
        "outputId": "1f81ea20-3f64-470f-df0c-af76c1b7baeb"
      },
      "source": [
        "import matplotlib.pyplot as plt\n",
        "plt.imshow(green)"
      ],
      "execution_count": 17,
      "outputs": [
        {
          "output_type": "execute_result",
          "data": {
            "text/plain": [
              "<matplotlib.image.AxesImage at 0x7f7618ab4c50>"
            ]
          },
          "metadata": {
            "tags": []
          },
          "execution_count": 17
        },
        {
          "output_type": "display_data",
          "data": {
            "image/png": "[encoded data removed]",
            "text/plain": [
              "<Figure size 432x288 with 1 Axes>"
            ]
          },
          "metadata": {
            "tags": [],
            "needs_background": "light"
          }
        }
      ]
    },
    {
      "cell_type": "code",
      "metadata": {
        "colab": {
          "base_uri": "https://localhost:8080/",
          "height": 286
        },
        "id": "QZOy4fh-ob-n",
        "outputId": "52129bd3-88cd-4459-d7bd-456606e4f09d"
      },
      "source": [
        "greyscale = cv2.cvtColor(green, cv2.COLOR_BGR2GRAY)\n",
        "plt.imshow(greyscale)"
      ],
      "execution_count": 18,
      "outputs": [
        {
          "output_type": "execute_result",
          "data": {
            "text/plain": [
              "<matplotlib.image.AxesImage at 0x7f7618aa4290>"
            ]
          },
          "metadata": {
            "tags": []
          },
          "execution_count": 18
        },
        {
          "output_type": "display_data",
          "data": {
            "image/png": "[encoded data removed]",
            "text/plain": [
              "<Figure size 432x288 with 1 Axes>"
            ]
          },
          "metadata": {
            "tags": [],
            "needs_background": "light"
          }
        }
      ]
    },
    {
      "cell_type": "code",
      "metadata": {
        "id": "U2Jk6_L_naSc"
      },
      "source": [
        ""
      ],
      "execution_count": 18,
      "outputs": []
    },
    {
      "cell_type": "code",
      "metadata": {
        "id": "CSH7Ca5Emr9-"
      },
      "source": [
        "contours, _ = cv2.findContours(greyscale, cv2.RETR_EXTERNAL, cv2.CHAIN_APPROX_SIMPLE)"
      ],
      "execution_count": 19,
      "outputs": []
    },
    {
      "cell_type": "code",
      "metadata": {
        "id": "5imCELBcmsA-"
      },
      "source": [
        "cntsSorted = sorted(contours, key=lambda x: cv2.contourArea(x))[::-1][:5]"
      ],
      "execution_count": 20,
      "outputs": []
    },
    {
      "cell_type": "code",
      "metadata": {
        "id": "z3XwWlKI1OkY"
      },
      "source": [
        "#cntsSorted[3]"
      ],
      "execution_count": 21,
      "outputs": []
    },
    {
      "cell_type": "code",
      "metadata": {
        "id": "CRw-3nA71cPO"
      },
      "source": [
        "#[cv2.contourArea(contour) for contour in contours]"
      ],
      "execution_count": 22,
      "outputs": []
    },
    {
      "cell_type": "code",
      "metadata": {
        "id": "x5z6hoF82eBN"
      },
      "source": [
        ""
      ],
      "execution_count": 22,
      "outputs": []
    },
    {
      "cell_type": "code",
      "metadata": {
        "id": "g0CPvX_gtnBR"
      },
      "source": [
        "cimg = np.zeros_like(greyscale)\n",
        "cimg_copy = cimg\n",
        "centers = np.zeros((5, 2))\n",
        "for i in range (5):    \n",
        "  M = cv2.moments(cntsSorted[i])\n",
        "  cX = int(M[\"m10\"] / M[\"m00\"])\n",
        "  cY = int(M[\"m01\"] / M[\"m00\"])\n",
        "  centers[i, 0] = cX\n",
        "  centers[i, 1] = cY"
      ],
      "execution_count": 23,
      "outputs": []
    },
    {
      "cell_type": "code",
      "metadata": {
        "id": "7lMvx1v32ZBi"
      },
      "source": [
        "centers_cards = centers[:-1,:]\n",
        "center_badge = centers[-1,:]\n",
        "player1 = np.argmax(centers_cards[:,1])\n",
        "player3 = np.argmin(centers_cards[:,1])\n",
        "player2 = np.argmin(centers_cards[:,0])\n",
        "player4 = np.argmax(centers_cards[:,0])\n",
        "players_args = [player1, player2, player3, player4]\n",
        "centers_ordered = np.array([centers_cards[i,:] for i in players_args])"
      ],
      "execution_count": 24,
      "outputs": []
    },
    {
      "cell_type": "code",
      "metadata": {
        "id": "dNu_nkRpfeys"
      },
      "source": [
        "#cntsSorted[3]\n",
        "#players_args"
      ],
      "execution_count": 25,
      "outputs": []
    },
    {
      "cell_type": "code",
      "metadata": {
        "id": "0Yer_2ot2ZG0"
      },
      "source": [
        "ordered_contours_cards = [cntsSorted[i] for i in players_args]"
      ],
      "execution_count": 26,
      "outputs": []
    },
    {
      "cell_type": "code",
      "metadata": {
        "id": "bVzqZmyaJy5P"
      },
      "source": [
        "cards_only = cv2.drawContours(cimg.copy(), ordered_contours_cards.copy(), -1, color=255, thickness=-1)\n",
        "cards_and_badge = cv2.drawContours(cimg.copy(), ordered_contours_cards.copy(), -1, color=255, thickness=-1)\n",
        "\n",
        "cimg_2 = cv2.drawContours(cimg.copy(), cntsSorted, -1, color=255, thickness=-1)"
      ],
      "execution_count": 27,
      "outputs": []
    },
    {
      "cell_type": "code",
      "metadata": {
        "id": "7mrrgAVAHGKC"
      },
      "source": [
        "#ordered_contours_cards[0]"
      ],
      "execution_count": 28,
      "outputs": []
    },
    {
      "cell_type": "code",
      "metadata": {
        "id": "ujQg2yIzIzHX"
      },
      "source": [
        ""
      ],
      "execution_count": 28,
      "outputs": []
    },
    {
      "cell_type": "code",
      "metadata": {
        "id": "7yNRvDTfziJt"
      },
      "source": [
        ""
      ],
      "execution_count": 28,
      "outputs": []
    },
    {
      "cell_type": "code",
      "metadata": {
        "colab": {
          "base_uri": "https://localhost:8080/"
        },
        "id": "3AjhDJHU2961",
        "outputId": "018cd6ce-d61f-4780-b12e-92bbf9c190ea"
      },
      "source": [
        "centers_distances = np.array([np.linalg.norm(centers_ordered[i, :]-center_badge) for i in range (4)])\n",
        "badge_idx = np.argmin(centers_distances)\n",
        "print ('player who has badge is :', badge_idx + 1)"
      ],
      "execution_count": 29,
      "outputs": [
        {
          "output_type": "stream",
          "text": [
            "player who has badge is : 1\n"
          ],
          "name": "stdout"
        }
      ]
    },
    {
      "cell_type": "code",
      "metadata": {
        "id": "XM9Ve6KNaLPx",
        "colab": {
          "base_uri": "https://localhost:8080/"
        },
        "outputId": "277ca596-ea5f-4249-83bd-6d2848592f8b"
      },
      "source": [
        "cards_only.shape"
      ],
      "execution_count": 30,
      "outputs": [
        {
          "output_type": "execute_result",
          "data": {
            "text/plain": [
              "(4608, 3456)"
            ]
          },
          "metadata": {
            "tags": []
          },
          "execution_count": 30
        }
      ]
    },
    {
      "cell_type": "code",
      "metadata": {
        "id": "C2oqwIMtZSMy"
      },
      "source": [
        ""
      ],
      "execution_count": 30,
      "outputs": []
    },
    {
      "cell_type": "code",
      "metadata": {
        "id": "YGB2y-YOw4oY"
      },
      "source": [
        "digits = []\n",
        "suits = []\n",
        "for iter in range (0, 4) :\n",
        "  cimg_copy = np.zeros((img.shape[0], img.shape[1]))\n",
        "\n",
        "  one_card = cv2.drawContours(cimg_copy.copy(), ordered_contours_cards.copy(), iter, color=255, thickness=-1)\n",
        "\n",
        "  mask_cards_only = one_card < 1\n",
        "  img_cards_only = img.copy()\n",
        "  img_cards_only[mask_cards_only, : ] = 0\n",
        "\n",
        "  greyscale_one_card = cv2.cvtColor(img_cards_only.copy(), cv2.COLOR_BGR2GRAY)\n",
        "\n",
        "  _,img_cards_only_copy = cv2.threshold(greyscale_one_card.copy(),150,255,cv2.THRESH_BINARY)\n",
        "\n",
        "  img_cards_only_copy = np.rot90(img_cards_only_copy, k=iter)\n",
        "\n",
        "\n",
        "\n",
        "\n",
        "  contours_card, _ = cv2.findContours(img_cards_only_copy, cv2.RETR_LIST, cv2.CHAIN_APPROX_SIMPLE)\n",
        "\n",
        "  contours_card = [contour for contour in contours_card if cv2.contourArea(contour)>100]\n",
        "  #cntsSorted = sorted(contours, key=lambda x: cv2.contourArea(x))[::-1][1:]\n",
        "\n",
        "\n",
        "\n",
        "\n",
        "  def find_suits (contours_card) :\n",
        "  centers = np.zeros((len(contours_card), 2))\n",
        "  for i in range (0, len(contours_card)):\n",
        "    M = cv2.moments(contours_card[i])\n",
        "    cX = int(M[\"m10\"] / M[\"m00\"])\n",
        "    cY = int(M[\"m01\"] / M[\"m00\"])\n",
        "    centers[i, 0] = cX\n",
        "    centers[i, 1] = cY\n",
        "\n",
        "  distances = distance_matrix(centers, centers)\n",
        "  (suit1, val), suit2 = max(map(lambda x: (max(enumerate(x[1]), key= lambda x: x[1]), x[0]), enumerate(distances)), key=lambda x: x[0][1])\n",
        "\n",
        "\n",
        "\n",
        "\n",
        "  sign_contour = contours_card[0]\n",
        "  final_contours = [contours_card[i] for i in range (0, len(contours_card)) if i!=suit1 and i!=suit2]\n",
        "  min_x = np.min(final_contours[0][:,0,0])\n",
        "  min_y = np.min(final_contours[0][:,0,1])\n",
        "\n",
        "  for i in range (len(final_contours)) :\n",
        "    final_contours[i][:,0,0] = final_contours[i][:,0,0] - min_x + 1\n",
        "    final_contours[i][:,0,1] = final_contours[i][:,0,1] - min_y + 1\n",
        "\n",
        "  img_cards_only_copy = np.zeros((500, 500))\n",
        "  digit = cv2.drawContours(img_cards_only_copy, final_contours, -1, color=255, thickness=-1)\n",
        "  digits.append(digit)\n",
        "\n",
        "\n",
        "\n",
        "\n",
        "\n",
        "  suits_contours = [contours_card[j] for j in range (0, len(contours_card)) if j==suit1 or j==suit2]\n",
        "  idx = np.argmax([suits_contours[0][:, 0, 1].max(), suits_contours[1][:, 0, 1].max()])\n",
        "  color_contour = contours_card[idx]\n",
        "\n",
        "  min_x = np.min(color_contour[:,0,0])\n",
        "  min_y = np.min(color_contour[:,0,1])\n",
        "\n",
        "  color_contour[:,0,0] = color_contour[:,0,0] - min_x + 1\n",
        "  color_contour[:,0,1] = color_contour[:,0,1] - min_y + 1\n",
        "\n",
        "  img_cards_only_copy = np.zeros((200, 200))\n",
        "  cards_only = cv2.drawContours(img_cards_only_copy, [color_contour], -1, color=255, thickness=-1)\n",
        "  suits.append(cards_only)"
      ],
      "execution_count": 31,
      "outputs": []
    },
    {
      "cell_type": "code",
      "metadata": {
        "colab": {
          "base_uri": "https://localhost:8080/",
          "height": 286
        },
        "id": "woXXcYeDEpUP",
        "outputId": "c0b26f9e-becd-4d27-fdd9-7d86a65ee0c9"
      },
      "source": [
        "plt.imshow(suits[0])"
      ],
      "execution_count": 32,
      "outputs": [
        {
          "output_type": "execute_result",
          "data": {
            "text/plain": [
              "<matplotlib.image.AxesImage at 0x7f7618a0f990>"
            ]
          },
          "metadata": {
            "tags": []
          },
          "execution_count": 32
        },
        {
          "output_type": "display_data",
          "data": {
            "image/png": "[encoded data removed]",
            "text/plain": [
              "<Figure size 432x288 with 1 Axes>"
            ]
          },
          "metadata": {
            "tags": [],
            "needs_background": "light"
          }
        }
      ]
    },
    {
      "cell_type": "code",
      "metadata": {
        "colab": {
          "base_uri": "https://localhost:8080/",
          "height": 286
        },
        "id": "j2RkMIAyA_re",
        "outputId": "6a715448-d83f-4376-a59f-bc6846cbf1f1"
      },
      "source": [
        "plt.imshow(digits[0])"
      ],
      "execution_count": 33,
      "outputs": [
        {
          "output_type": "execute_result",
          "data": {
            "text/plain": [
              "<matplotlib.image.AxesImage at 0x7f76189930d0>"
            ]
          },
          "metadata": {
            "tags": []
          },
          "execution_count": 33
        },
        {
          "output_type": "display_data",
          "data": {
            "image/png": "[encoded data removed]",
            "text/plain": [
              "<Figure size 432x288 with 1 Axes>"
            ]
          },
          "metadata": {
            "tags": [],
            "needs_background": "light"
          }
        }
      ]
    },
    {
      "cell_type": "code",
      "metadata": {
        "colab": {
          "base_uri": "https://localhost:8080/",
          "height": 166
        },
        "id": "lFgSiCPAj3wE",
        "outputId": "2646298e-62a9-4cf7-b925-1c07d9f5c69b"
      },
      "source": [
        "assert(1==2)"
      ],
      "execution_count": 34,
      "outputs": [
        {
          "output_type": "error",
          "ename": "AssertionError",
          "evalue": "ignored",
          "traceback": [
            "\u001b[0;31m---------------------------------------------------------------------------\u001b[0m",
            "\u001b[0;31mAssertionError\u001b[0m                            Traceback (most recent call last)",
            "\u001b[0;32m<ipython-input-34-91d16dafa3fa>\u001b[0m in \u001b[0;36m<module>\u001b[0;34m()\u001b[0m\n\u001b[0;32m----> 1\u001b[0;31m \u001b[0;32massert\u001b[0m\u001b[0;34m(\u001b[0m\u001b[0;36m1\u001b[0m\u001b[0;34m==\u001b[0m\u001b[0;36m2\u001b[0m\u001b[0;34m)\u001b[0m\u001b[0;34m\u001b[0m\u001b[0;34m\u001b[0m\u001b[0m\n\u001b[0m",
            "\u001b[0;31mAssertionError\u001b[0m: "
          ]
        }
      ]
    },
    {
      "cell_type": "code",
      "metadata": {
        "colab": {
          "base_uri": "https://localhost:8080/",
          "height": 564
        },
        "id": "1zb_-oiJBZ31",
        "outputId": "2acfbd38-203d-4198-c5b8-adbb5cca98e9"
      },
      "source": [
        "plt.imshow(contours_card[0])"
      ],
      "execution_count": 37,
      "outputs": [
        {
          "output_type": "error",
          "ename": "TypeError",
          "evalue": "ignored",
          "traceback": [
            "\u001b[0;31m---------------------------------------------------------------------------\u001b[0m",
            "\u001b[0;31mTypeError\u001b[0m                                 Traceback (most recent call last)",
            "\u001b[0;32m<ipython-input-37-a23e1be7d4a3>\u001b[0m in \u001b[0;36m<module>\u001b[0;34m()\u001b[0m\n\u001b[0;32m----> 1\u001b[0;31m \u001b[0mplt\u001b[0m\u001b[0;34m.\u001b[0m\u001b[0mimshow\u001b[0m\u001b[0;34m(\u001b[0m\u001b[0mcontours_card\u001b[0m\u001b[0;34m[\u001b[0m\u001b[0;36m0\u001b[0m\u001b[0;34m]\u001b[0m\u001b[0;34m)\u001b[0m\u001b[0;34m\u001b[0m\u001b[0;34m\u001b[0m\u001b[0m\n\u001b[0m",
            "\u001b[0;32m/usr/local/lib/python3.7/dist-packages/matplotlib/pyplot.py\u001b[0m in \u001b[0;36mimshow\u001b[0;34m(X, cmap, norm, aspect, interpolation, alpha, vmin, vmax, origin, extent, shape, filternorm, filterrad, imlim, resample, url, data, **kwargs)\u001b[0m\n\u001b[1;32m   2649\u001b[0m         \u001b[0mfilternorm\u001b[0m\u001b[0;34m=\u001b[0m\u001b[0mfilternorm\u001b[0m\u001b[0;34m,\u001b[0m \u001b[0mfilterrad\u001b[0m\u001b[0;34m=\u001b[0m\u001b[0mfilterrad\u001b[0m\u001b[0;34m,\u001b[0m \u001b[0mimlim\u001b[0m\u001b[0;34m=\u001b[0m\u001b[0mimlim\u001b[0m\u001b[0;34m,\u001b[0m\u001b[0;34m\u001b[0m\u001b[0;34m\u001b[0m\u001b[0m\n\u001b[1;32m   2650\u001b[0m         resample=resample, url=url, **({\"data\": data} if data is not\n\u001b[0;32m-> 2651\u001b[0;31m         None else {}), **kwargs)\n\u001b[0m\u001b[1;32m   2652\u001b[0m     \u001b[0msci\u001b[0m\u001b[0;34m(\u001b[0m\u001b[0m__ret\u001b[0m\u001b[0;34m)\u001b[0m\u001b[0;34m\u001b[0m\u001b[0;34m\u001b[0m\u001b[0m\n\u001b[1;32m   2653\u001b[0m     \u001b[0;32mreturn\u001b[0m \u001b[0m__ret\u001b[0m\u001b[0;34m\u001b[0m\u001b[0;34m\u001b[0m\u001b[0m\n",
            "\u001b[0;32m/usr/local/lib/python3.7/dist-packages/matplotlib/__init__.py\u001b[0m in \u001b[0;36minner\u001b[0;34m(ax, data, *args, **kwargs)\u001b[0m\n\u001b[1;32m   1563\u001b[0m     \u001b[0;32mdef\u001b[0m \u001b[0minner\u001b[0m\u001b[0;34m(\u001b[0m\u001b[0max\u001b[0m\u001b[0;34m,\u001b[0m \u001b[0;34m*\u001b[0m\u001b[0margs\u001b[0m\u001b[0;34m,\u001b[0m \u001b[0mdata\u001b[0m\u001b[0;34m=\u001b[0m\u001b[0;32mNone\u001b[0m\u001b[0;34m,\u001b[0m \u001b[0;34m**\u001b[0m\u001b[0mkwargs\u001b[0m\u001b[0;34m)\u001b[0m\u001b[0;34m:\u001b[0m\u001b[0;34m\u001b[0m\u001b[0;34m\u001b[0m\u001b[0m\n\u001b[1;32m   1564\u001b[0m         \u001b[0;32mif\u001b[0m \u001b[0mdata\u001b[0m \u001b[0;32mis\u001b[0m \u001b[0;32mNone\u001b[0m\u001b[0;34m:\u001b[0m\u001b[0;34m\u001b[0m\u001b[0;34m\u001b[0m\u001b[0m\n\u001b[0;32m-> 1565\u001b[0;31m             \u001b[0;32mreturn\u001b[0m \u001b[0mfunc\u001b[0m\u001b[0;34m(\u001b[0m\u001b[0max\u001b[0m\u001b[0;34m,\u001b[0m \u001b[0;34m*\u001b[0m\u001b[0mmap\u001b[0m\u001b[0;34m(\u001b[0m\u001b[0msanitize_sequence\u001b[0m\u001b[0;34m,\u001b[0m \u001b[0margs\u001b[0m\u001b[0;34m)\u001b[0m\u001b[0;34m,\u001b[0m \u001b[0;34m**\u001b[0m\u001b[0mkwargs\u001b[0m\u001b[0;34m)\u001b[0m\u001b[0;34m\u001b[0m\u001b[0;34m\u001b[0m\u001b[0m\n\u001b[0m\u001b[1;32m   1566\u001b[0m \u001b[0;34m\u001b[0m\u001b[0m\n\u001b[1;32m   1567\u001b[0m         \u001b[0mbound\u001b[0m \u001b[0;34m=\u001b[0m \u001b[0mnew_sig\u001b[0m\u001b[0;34m.\u001b[0m\u001b[0mbind\u001b[0m\u001b[0;34m(\u001b[0m\u001b[0max\u001b[0m\u001b[0;34m,\u001b[0m \u001b[0;34m*\u001b[0m\u001b[0margs\u001b[0m\u001b[0;34m,\u001b[0m \u001b[0;34m**\u001b[0m\u001b[0mkwargs\u001b[0m\u001b[0;34m)\u001b[0m\u001b[0;34m\u001b[0m\u001b[0;34m\u001b[0m\u001b[0m\n",
            "\u001b[0;32m/usr/local/lib/python3.7/dist-packages/matplotlib/cbook/deprecation.py\u001b[0m in \u001b[0;36mwrapper\u001b[0;34m(*args, **kwargs)\u001b[0m\n\u001b[1;32m    356\u001b[0m                 \u001b[0;34mf\"%(removal)s.  If any parameter follows {name!r}, they \"\u001b[0m\u001b[0;34m\u001b[0m\u001b[0;34m\u001b[0m\u001b[0m\n\u001b[1;32m    357\u001b[0m                 f\"should be pass as keyword, not positionally.\")\n\u001b[0;32m--> 358\u001b[0;31m         \u001b[0;32mreturn\u001b[0m \u001b[0mfunc\u001b[0m\u001b[0;34m(\u001b[0m\u001b[0;34m*\u001b[0m\u001b[0margs\u001b[0m\u001b[0;34m,\u001b[0m \u001b[0;34m**\u001b[0m\u001b[0mkwargs\u001b[0m\u001b[0;34m)\u001b[0m\u001b[0;34m\u001b[0m\u001b[0;34m\u001b[0m\u001b[0m\n\u001b[0m\u001b[1;32m    359\u001b[0m \u001b[0;34m\u001b[0m\u001b[0m\n\u001b[1;32m    360\u001b[0m     \u001b[0;32mreturn\u001b[0m \u001b[0mwrapper\u001b[0m\u001b[0;34m\u001b[0m\u001b[0;34m\u001b[0m\u001b[0m\n",
            "\u001b[0;32m/usr/local/lib/python3.7/dist-packages/matplotlib/cbook/deprecation.py\u001b[0m in \u001b[0;36mwrapper\u001b[0;34m(*args, **kwargs)\u001b[0m\n\u001b[1;32m    356\u001b[0m                 \u001b[0;34mf\"%(removal)s.  If any parameter follows {name!r}, they \"\u001b[0m\u001b[0;34m\u001b[0m\u001b[0;34m\u001b[0m\u001b[0m\n\u001b[1;32m    357\u001b[0m                 f\"should be pass as keyword, not positionally.\")\n\u001b[0;32m--> 358\u001b[0;31m         \u001b[0;32mreturn\u001b[0m \u001b[0mfunc\u001b[0m\u001b[0;34m(\u001b[0m\u001b[0;34m*\u001b[0m\u001b[0margs\u001b[0m\u001b[0;34m,\u001b[0m \u001b[0;34m**\u001b[0m\u001b[0mkwargs\u001b[0m\u001b[0;34m)\u001b[0m\u001b[0;34m\u001b[0m\u001b[0;34m\u001b[0m\u001b[0m\n\u001b[0m\u001b[1;32m    359\u001b[0m \u001b[0;34m\u001b[0m\u001b[0m\n\u001b[1;32m    360\u001b[0m     \u001b[0;32mreturn\u001b[0m \u001b[0mwrapper\u001b[0m\u001b[0;34m\u001b[0m\u001b[0;34m\u001b[0m\u001b[0m\n",
            "\u001b[0;32m/usr/local/lib/python3.7/dist-packages/matplotlib/axes/_axes.py\u001b[0m in \u001b[0;36mimshow\u001b[0;34m(self, X, cmap, norm, aspect, interpolation, alpha, vmin, vmax, origin, extent, shape, filternorm, filterrad, imlim, resample, url, **kwargs)\u001b[0m\n\u001b[1;32m   5624\u001b[0m                               resample=resample, **kwargs)\n\u001b[1;32m   5625\u001b[0m \u001b[0;34m\u001b[0m\u001b[0m\n\u001b[0;32m-> 5626\u001b[0;31m         \u001b[0mim\u001b[0m\u001b[0;34m.\u001b[0m\u001b[0mset_data\u001b[0m\u001b[0;34m(\u001b[0m\u001b[0mX\u001b[0m\u001b[0;34m)\u001b[0m\u001b[0;34m\u001b[0m\u001b[0;34m\u001b[0m\u001b[0m\n\u001b[0m\u001b[1;32m   5627\u001b[0m         \u001b[0mim\u001b[0m\u001b[0;34m.\u001b[0m\u001b[0mset_alpha\u001b[0m\u001b[0;34m(\u001b[0m\u001b[0malpha\u001b[0m\u001b[0;34m)\u001b[0m\u001b[0;34m\u001b[0m\u001b[0;34m\u001b[0m\u001b[0m\n\u001b[1;32m   5628\u001b[0m         \u001b[0;32mif\u001b[0m \u001b[0mim\u001b[0m\u001b[0;34m.\u001b[0m\u001b[0mget_clip_path\u001b[0m\u001b[0;34m(\u001b[0m\u001b[0;34m)\u001b[0m \u001b[0;32mis\u001b[0m \u001b[0;32mNone\u001b[0m\u001b[0;34m:\u001b[0m\u001b[0;34m\u001b[0m\u001b[0;34m\u001b[0m\u001b[0m\n",
            "\u001b[0;32m/usr/local/lib/python3.7/dist-packages/matplotlib/image.py\u001b[0m in \u001b[0;36mset_data\u001b[0;34m(self, A)\u001b[0m\n\u001b[1;32m    697\u001b[0m                 or self._A.ndim == 3 and self._A.shape[-1] in [3, 4]):\n\u001b[1;32m    698\u001b[0m             raise TypeError(\"Invalid shape {} for image data\"\n\u001b[0;32m--> 699\u001b[0;31m                             .format(self._A.shape))\n\u001b[0m\u001b[1;32m    700\u001b[0m \u001b[0;34m\u001b[0m\u001b[0m\n\u001b[1;32m    701\u001b[0m         \u001b[0;32mif\u001b[0m \u001b[0mself\u001b[0m\u001b[0;34m.\u001b[0m\u001b[0m_A\u001b[0m\u001b[0;34m.\u001b[0m\u001b[0mndim\u001b[0m \u001b[0;34m==\u001b[0m \u001b[0;36m3\u001b[0m\u001b[0;34m:\u001b[0m\u001b[0;34m\u001b[0m\u001b[0;34m\u001b[0m\u001b[0m\n",
            "\u001b[0;31mTypeError\u001b[0m: Invalid shape (190, 1, 2) for image data"
          ]
        },
        {
          "output_type": "display_data",
          "data": {
            "image/png": "[encoded data removed]",
            "text/plain": [
              "<Figure size 432x288 with 1 Axes>"
            ]
          },
          "metadata": {
            "tags": [],
            "needs_background": "light"
          }
        }
      ]
    },
    {
      "cell_type": "code",
      "metadata": {
        "colab": {
          "base_uri": "https://localhost:8080/"
        },
        "id": "LUekVVEm_9Wj",
        "outputId": "f5f7c0c9-e2d6-4daf-cd3e-ed0183ba06c7"
      },
      "source": [
        ""
      ],
      "execution_count": 36,
      "outputs": [
        {
          "output_type": "stream",
          "text": [
            "/usr/local/lib/python3.7/dist-packages/ipykernel_launcher.py:1: VisibleDeprecationWarning: Creating an ndarray from ragged nested sequences (which is a list-or-tuple of lists-or-tuples-or ndarrays with different lengths or shapes) is deprecated. If you meant to do this, you must specify 'dtype=object' when creating the ndarray\n",
            "  \"\"\"Entry point for launching an IPython kernel.\n"
          ],
          "name": "stderr"
        },
        {
          "output_type": "execute_result",
          "data": {
            "text/plain": [
              "(7,)"
            ]
          },
          "metadata": {
            "tags": []
          },
          "execution_count": 36
        }
      ]
    },
    {
      "cell_type": "code",
      "metadata": {
        "id": "G3gNfUAdmsC7"
      },
      "source": [
        ""
      ],
      "execution_count": null,
      "outputs": []
    },
    {
      "cell_type": "code",
      "metadata": {
        "id": "o-D7lVW8VQHZ"
      },
      "source": [
        "contours, _ = cv2.findContours(img_cards_only_copy, cv2.RETR_LIST, cv2.CHAIN_APPROX_SIMPLE)\n",
        "contours = [contour for contour in contours if cv2.contourArea(contour)>100]\n",
        "cntsSorted = sorted(contours, key=lambda x: cv2.contourArea(x))[::-1][1:]\n",
        "\n",
        "\n",
        "\n",
        "\n",
        "\n",
        "centers = np.zeros((len(cntsSorted), 2))\n",
        "for i in range (len(cntsSorted)):\n",
        "  M = cv2.moments(cntsSorted[i])\n",
        "  cX = int(M[\"m10\"] / M[\"m00\"])\n",
        "  cY = int(M[\"m01\"] / M[\"m00\"])\n",
        "  centers[i, 0] = cX\n",
        "  centers[i, 1] = cY\n",
        "\n",
        "distances = distance_matrix(centers, centers)\n",
        "(suit1, val), suit2 = max(map(lambda x: (max(enumerate(x[1]), key= lambda x: x[1]), x[0]), enumerate(distances)), key=lambda x: x[0][1])\n",
        "\n",
        "\n",
        "\n",
        "\n",
        "sign_contour = cntsSorted[0]\n",
        "final_contours = [cntsSorted[i] for i in range (len(cntsSorted)) if i!=suit1 and i!=suit2]\n",
        "min_x = np.min(final_contours[0][:,0,0])\n",
        "min_y = np.min(final_contours[0][:,0,1])\n",
        "\n",
        "for i in range (len(final_contours)) :\n",
        "  final_contours[i][:,0,0] = final_contours[i][:,0,0] - min_x + 1\n",
        "  final_contours[i][:,0,1] = final_contours[i][:,0,1] - min_y + 1\n",
        "\n",
        "img_cards_only_copy = np.zeros((500, 500))\n",
        "cards_only = cv2.drawContours(img_cards_only_copy, final_contours, -1, color=255, thickness=-1)\n",
        "plt.imshow(img_cards_only_copy)\n",
        "\n",
        "\n",
        "\n",
        "\n",
        "\n",
        "\n",
        "suits_contours = [cntsSorted[i] for i in range (len(cntsSorted)) if i==suit1 or i==suit2]\n",
        "idx = np.argmax([suits_contours[0][:, 0, 1].max(), suits_contours[1][:, 0, 1].max()])\n",
        "color_contour = cntsSorted[idx]\n",
        "\n",
        "min_x = np.min(color_contour[:,0,0])\n",
        "min_y = np.min(color_contour[:,0,1])\n",
        "\n",
        "color_contour[:,0,0] = color_contour[:,0,0] - min_x + 1\n",
        "color_contour[:,0,1] = color_contour[:,0,1] - min_y + 1\n",
        "\n",
        "img_cards_only_copy = np.zeros((200, 200))\n",
        "cards_only = cv2.drawContours(img_cards_only_copy, [color_contour], -1, color=255, thickness=-1)\n",
        "plt.imshow(img_cards_only_copy)"
      ],
      "execution_count": null,
      "outputs": []
    },
    {
      "cell_type": "code",
      "metadata": {
        "id": "KcAURSNGd7r6"
      },
      "source": [
        "final_contours = np.delete(cntsSorted, row, 0)\n",
        "final_contours = np.delete(final_contours, col, 0)\n",
        "len(final_contours)"
      ],
      "execution_count": null,
      "outputs": []
    },
    {
      "cell_type": "code",
      "metadata": {
        "id": "jWIDUGxgH6rl"
      },
      "source": [
        "sign_contour = cntsSorted[0]\n",
        "final_contours = [cntsSorted[i] for i in range (len(cntsSorted)) if i!=suit1 and i!=suit2]\n",
        "min_x = np.min(final_contours[0][:,0,0])\n",
        "min_y = np.min(final_contours[0][:,0,1])\n",
        "\n",
        "for i in range (len(final_contours)) :\n",
        "  final_contours[i][:,0,0] = final_contours[i][:,0,0] - min_x + 1\n",
        "  final_contours[i][:,0,1] = final_contours[i][:,0,1] - min_y + 1\n",
        "\n",
        "img_cards_only_copy = np.zeros((500, 500))\n",
        "cards_only = cv2.drawContours(img_cards_only_copy, final_contours, -1, color=255, thickness=-1)\n",
        "plt.imshow(img_cards_only_copy)\n",
        "\n",
        "suits_contours = [cntsSorted[i] for i in range (len(cntsSorted)) if i==suit1 or i==suit2]\n",
        "idx = np.argmax([suits_contours[0][:, 0, 1].max(), suits_contours[1][:, 0, 1].max()])\n",
        "color_contour = cntsSorted[idx]\n",
        "\n",
        "min_x = np.min(color_contour[:,0,0])\n",
        "min_y = np.min(color_contour[:,0,1])\n",
        "\n",
        "color_contour[:,0,0] = color_contour[:,0,0] - min_x + 1\n",
        "color_contour[:,0,1] = color_contour[:,0,1] - min_y + 1\n",
        "\n",
        "img_cards_only_copy = np.zeros((200, 200))\n",
        "cards_only = cv2.drawContours(img_cards_only_copy, [color_contour], -1, color=255, thickness=-1)\n",
        "plt.imshow(img_cards_only_copy)"
      ],
      "execution_count": null,
      "outputs": []
    },
    {
      "cell_type": "code",
      "metadata": {
        "id": "CPQwKTnDH7Tb"
      },
      "source": [
        ""
      ],
      "execution_count": null,
      "outputs": []
    },
    {
      "cell_type": "code",
      "metadata": {
        "id": "4jMKfm3xH7Xg"
      },
      "source": [
        "#rotate images depending on player\n",
        "#put in functions\n",
        "#iterate"
      ],
      "execution_count": null,
      "outputs": []
    },
    {
      "cell_type": "code",
      "metadata": {
        "id": "XvIuTR3VH7bY"
      },
      "source": [
        ""
      ],
      "execution_count": null,
      "outputs": []
    },
    {
      "cell_type": "code",
      "metadata": {
        "id": "je87N-qPH7fT"
      },
      "source": [
        ""
      ],
      "execution_count": null,
      "outputs": []
    },
    {
      "cell_type": "code",
      "metadata": {
        "id": "dm-Dk7YZH7iU"
      },
      "source": [
        ""
      ],
      "execution_count": null,
      "outputs": []
    },
    {
      "cell_type": "code",
      "metadata": {
        "id": "IYFsVpiCS_ry"
      },
      "source": [
        ""
      ],
      "execution_count": null,
      "outputs": []
    },
    {
      "cell_type": "code",
      "metadata": {
        "id": "a4liTdBETrzS"
      },
      "source": [
        ""
      ],
      "execution_count": null,
      "outputs": []
    }
  ]
}