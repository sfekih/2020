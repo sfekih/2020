{
  "nbformat": 4,
  "nbformat_minor": 0,
  "metadata": {
    "colab": {
      "name": "projet_final_iapr.ipynb",
      "provenance": [],
      "collapsed_sections": [],
      "mount_file_id": "1LE2_CLb0S-7VWKtI9DZAMNVKHtWPFs6z",
      "authorship_tag": "ABX9TyPP9+iUvVcjjFGWJZwinr+6",
      "include_colab_link": true
    },
    "kernelspec": {
      "name": "python3",
      "display_name": "Python 3"
    },
    "language_info": {
      "name": "python"
    }
  },
  "cells": [
    {
      "cell_type": "markdown",
      "metadata": {
        "id": "view-in-github",
        "colab_type": "text"
      },
      "source": [
        "<a href=\"https://colab.research.google.com/github/sfekih/2020/blob/master/projet_final_iapr.ipynb\" target=\"_parent\"><img src=\"https://colab.research.google.com/assets/colab-badge.svg\" alt=\"Open In Colab\"/></a>"
      ]
    },
    {
      "cell_type": "code",
      "metadata": {
        "id": "hgg-Pko0LYfc"
      },
      "source": [
        "import os"
      ],
      "execution_count": 1,
      "outputs": []
    },
    {
      "cell_type": "code",
      "metadata": {
        "colab": {
          "base_uri": "https://localhost:8080/"
        },
        "id": "_lNWKXHILf8X",
        "outputId": "17a3e964-6ed2-471f-fb37-bd539c4169d3"
      },
      "source": [
        "from google.colab import drive\n",
        "drive.mount('/content/drive')\n",
        "PROJECT_PATH = os.path.join('drive', 'My Drive', 'Colab Notebooks', 'iapr', 'train_games')"
      ],
      "execution_count": 2,
      "outputs": [
        {
          "output_type": "stream",
          "text": [
            "Drive already mounted at /content/drive; to attempt to forcibly remount, call drive.mount(\"/content/drive\", force_remount=True).\n"
          ],
          "name": "stdout"
        }
      ]
    },
    {
      "cell_type": "code",
      "metadata": {
        "colab": {
          "base_uri": "https://localhost:8080/"
        },
        "id": "vL5pu0gzLh9d",
        "outputId": "bc55ed84-d813-4b66-ac15-963d02d80ec2"
      },
      "source": [
        "os.chdir(PROJECT_PATH)\n",
        "!pwd"
      ],
      "execution_count": 3,
      "outputs": [
        {
          "output_type": "stream",
          "text": [
            "/content/drive/My Drive/Colab Notebooks/iapr/train_games\n"
          ],
          "name": "stdout"
        }
      ]
    },
    {
      "cell_type": "code",
      "metadata": {
        "colab": {
          "base_uri": "https://localhost:8080/"
        },
        "id": "bYqg39OYLwMV",
        "outputId": "cc7f1df1-1503-4834-9e83-730a5fe9fc69"
      },
      "source": [
        "ls"
      ],
      "execution_count": 4,
      "outputs": [
        {
          "output_type": "stream",
          "text": [
            "\u001b[0m\u001b[01;34mgame1\u001b[0m/  \u001b[01;34mgame2\u001b[0m/  \u001b[01;34mgame3\u001b[0m/  \u001b[01;34mgame4\u001b[0m/  \u001b[01;34mgame5\u001b[0m/  \u001b[01;34mgame6\u001b[0m/  \u001b[01;34mgame7\u001b[0m/\n"
          ],
          "name": "stdout"
        }
      ]
    },
    {
      "cell_type": "code",
      "metadata": {
        "id": "44jK3NHVEJm_"
      },
      "source": [
        "#cd .."
      ],
      "execution_count": 5,
      "outputs": []
    },
    {
      "cell_type": "code",
      "metadata": {
        "id": "EoWbkq1PPwIf"
      },
      "source": [
        ""
      ],
      "execution_count": 5,
      "outputs": []
    },
    {
      "cell_type": "code",
      "metadata": {
        "id": "7pjyD2jQPxYm"
      },
      "source": [
        ""
      ],
      "execution_count": 5,
      "outputs": []
    },
    {
      "cell_type": "code",
      "metadata": {
        "id": "l7ggQawBQLyv"
      },
      "source": [
        "import pandas as pd\n",
        "import numpy as np\n",
        "\n",
        "from PIL import Image\n",
        "from scipy.spatial import distance_matrix\n"
      ],
      "execution_count": 6,
      "outputs": []
    },
    {
      "cell_type": "code",
      "metadata": {
        "id": "6wwxei40QPn_"
      },
      "source": [
        "import os"
      ],
      "execution_count": 7,
      "outputs": []
    },
    {
      "cell_type": "code",
      "metadata": {
        "id": "m1MuAozGaj8D"
      },
      "source": [
        ""
      ],
      "execution_count": 8,
      "outputs": []
    },
    {
      "cell_type": "code",
      "metadata": {
        "id": "s0zsJlnJEnPZ"
      },
      "source": [
        "def separate_columns(row, game_nb) :\n",
        "  row['P1_suit'] = row.P1[1]\n",
        "  row['P1_digit'] = row.P1[0]\n",
        "  row['P2_suit'] = row.P2[1]\n",
        "  row['P2_digit'] = row.P2[0]\n",
        "  row['P3_suit'] = row.P3[1]\n",
        "  row['P3_digit'] = row.P3[0]\n",
        "  row['P4_digit'] = row.P4[1]\n",
        "  row['P4_suit'] = row.P4[0]\n",
        "  row['game_nb'] = game_nb\n",
        "  return row"
      ],
      "execution_count": 9,
      "outputs": []
    },
    {
      "cell_type": "code",
      "metadata": {
        "id": "xi1Z1-fKQV2P"
      },
      "source": [
        "\n",
        "\n"
      ],
      "execution_count": 9,
      "outputs": []
    },
    {
      "cell_type": "code",
      "metadata": {
        "id": "LnwOAE40b1Hl"
      },
      "source": [
        ""
      ],
      "execution_count": 9,
      "outputs": []
    },
    {
      "cell_type": "code",
      "metadata": {
        "id": "Q9n8zQ9SQXf3"
      },
      "source": [
        ""
      ],
      "execution_count": 9,
      "outputs": []
    },
    {
      "cell_type": "code",
      "metadata": {
        "id": "GRtFnK0ZcD8r"
      },
      "source": [
        "import cv2\n",
        "import matplotlib.pyplot as plt\n"
      ],
      "execution_count": 10,
      "outputs": []
    },
    {
      "cell_type": "code",
      "metadata": {
        "id": "U827hLul30P6"
      },
      "source": [
        "#read as BGR\n"
      ],
      "execution_count": 11,
      "outputs": []
    },
    {
      "cell_type": "code",
      "metadata": {
        "id": "MJ46eOx2FqVB"
      },
      "source": [
        ""
      ],
      "execution_count": 11,
      "outputs": []
    },
    {
      "cell_type": "code",
      "metadata": {
        "id": "KEy2NP-odsnE"
      },
      "source": [
        "def get_green_contours (img) :\n",
        "  ## convert to hsv\n",
        "  hsv = cv2.cvtColor(img, cv2.COLOR_BGR2HSV)\n",
        "\n",
        "  ## mask of green (36,25,25) ~ (86, 255,255)\n",
        "  # mask = cv2.inRange(hsv, (36, 25, 25), (86, 255,255))\n",
        "  mask = cv2.inRange(hsv, (36, 25, 25), (70, 255,255))\n",
        "\n",
        "  ## slice the green\n",
        "  imask = mask>0\n",
        "  green = np.zeros_like(img, np.uint8)\n",
        "  green[imask] = 255\n",
        "  greyscale = cv2.cvtColor(green, cv2.COLOR_BGR2GRAY)\n",
        "  return greyscale\n"
      ],
      "execution_count": 12,
      "outputs": []
    },
    {
      "cell_type": "code",
      "metadata": {
        "id": "gVaUwTpGdzbD"
      },
      "source": [
        "def find_suits (contours_card) :\n",
        "  centers = np.zeros((len(contours_card), 2))\n",
        "  for i in range (0, len(contours_card)):\n",
        "    M = cv2.moments(contours_card[i])\n",
        "    cX = int(M[\"m10\"] / M[\"m00\"])\n",
        "    cY = int(M[\"m01\"] / M[\"m00\"])\n",
        "    centers[i, 0] = cX\n",
        "    centers[i, 1] = cY\n",
        "\n",
        "  distances = distance_matrix(centers, centers)\n",
        "  (suit1, val), suit2 = max(map(lambda x: (max(enumerate(x[1]), key= lambda x: x[1]), x[0]),\n",
        "                                enumerate(distances)),\n",
        "                              key=lambda x: x[0][1])\n",
        "\n",
        "  return suit1, suit2\n",
        "\n",
        "def get_contours_one_card (img, ordered_contours_cards, num_player):\n",
        "  cimg_copy = np.zeros((img.shape[0], img.shape[1]))\n",
        "\n",
        "  one_card = cv2.drawContours(cimg_copy.copy(), ordered_contours_cards.copy(), num_player, color=255, thickness=-1)\n",
        "\n",
        "  mask_cards_only = one_card < 1\n",
        "  img_cards_only = img.copy()\n",
        "  img_cards_only[mask_cards_only, : ] = 0\n",
        "\n",
        "  greyscale_one_card = cv2.cvtColor(img_cards_only.copy(), cv2.COLOR_BGR2GRAY)\n",
        "\n",
        "  _,img_cards_only_copy = cv2.threshold(greyscale_one_card.copy(),180,255,cv2.THRESH_BINARY)\n",
        "\n",
        "  img_cards_only_copy = np.rot90(img_cards_only_copy, k=num_player)\n",
        "\n",
        "  contours_card, _ = cv2.findContours(img_cards_only_copy, cv2.RETR_LIST, cv2.CHAIN_APPROX_SIMPLE)\n",
        "\n",
        "\n",
        "  contours_card = [contour_ for contour_ in contours_card if cv2.contourArea(contour_)>500]\n",
        "  contours_card = sorted(contours_card, key=lambda x: cv2.contourArea(x))[::-1][1:]\n",
        "\n",
        "  return contours_card\n",
        "\n",
        "\n",
        "def get_needed_contours (contours_card, used_for:str, suit1, suit2):\n",
        "\n",
        "  if used_for=='digits':\n",
        "    final_contours = [contours_card[i] for i in range (0, len(contours_card)) if (i!=suit1 and i!=suit2)]\n",
        "  elif used_for=='suits':\n",
        "    final_contours = [contours_card[j] for j in range (0, len(contours_card)) if (j==suit1 or j==suit2)]\n",
        "  else :\n",
        "    raise NameError (\"parameter used_for should be 'digits' or 'suits'\")\n",
        "\n",
        "  \n",
        "  min_x = np.min(final_contours[0][:,0,0])\n",
        "  min_y = np.min(final_contours[0][:,0,1])\n",
        "\n",
        "  for i in range (len(final_contours)) :\n",
        "    final_contours[i][:,0,0] = final_contours[i][:,0,0] - min_x + 1\n",
        "    final_contours[i][:,0,1] = final_contours[i][:,0,1] - min_y + 1\n",
        "  if used_for=='digits':\n",
        "    img_cards_only_copy = np.zeros((350, 350))\n",
        "  else :\n",
        "    img_cards_only_copy = np.zeros((150, 150))\n",
        "\n",
        "  drawn_contour = cv2.drawContours(img_cards_only_copy, final_contours, -1, color=255, thickness=-1)\n",
        "  return drawn_contour"
      ],
      "execution_count": 85,
      "outputs": []
    },
    {
      "cell_type": "code",
      "metadata": {
        "id": "x5z6hoF82eBN"
      },
      "source": [
        "digits = []\n",
        "suits = []"
      ],
      "execution_count": 108,
      "outputs": []
    },
    {
      "cell_type": "code",
      "metadata": {
        "id": "g0CPvX_gtnBR",
        "colab": {
          "base_uri": "https://localhost:8080/"
        },
        "outputId": "d8290f12-7a99-46ab-f8cb-6944cc07bee7"
      },
      "source": [
        "games_paths = sorted(['game'+str(i) for i in range (1, 8)])\n",
        "rounds_paths = sorted([str(i)+'.jpg' for i in range (1, 14)])\n",
        "total_results = pd.DataFrame()\n",
        "\n",
        "for game_nb in range (0, len(games_paths)) :\n",
        "  \n",
        "  results_path = games_paths[game_nb] + '/' + 'game'+str(game_nb + 1)+'.csv'\n",
        "\n",
        "\n",
        "\n",
        "  data_game_1 = pd.read_csv(results_path)\n",
        "  data_game_preprocessed = data_game_1.apply(lambda x: separate_columns(x, game_nb+1), axis=1)\\\n",
        "                                      .drop(columns={'P1', 'P2', 'P3', 'P4'})\\\n",
        "                                      .rename(columns={'Unnamed: 0':'round_nb'})\n",
        "\n",
        "  total_results = total_results.append(data_game_preprocessed)\n",
        "\n",
        "  for round_nb in range (len(rounds_paths)) :\n",
        "    round = rounds_paths[round_nb]\n",
        "    image_path = games_paths[game_nb] + '/' + round\n",
        "    img = cv2.imread(image_path)\n",
        "\n",
        "    try :\n",
        "      \n",
        "      green_contours = get_green_contours(img)\n",
        "      kernel = np.ones((5,5),np.uint8)\n",
        "      dilation = cv2.dilate(green_contours,kernel,iterations = 2)\n",
        "      hull = []\n",
        "\n",
        "      contours, _ = cv2.findContours(dilation, cv2.RETR_EXTERNAL, cv2.CHAIN_APPROX_SIMPLE)\n",
        "\n",
        "      for i in range(len(contours)):\n",
        "          hull.append(cv2.convexHull(contours[i], False))\n",
        "      cntsSorted = sorted(hull, key=lambda x: cv2.arcLength(x, True))[::-1][:5]\n",
        "\n",
        "\n",
        "      cimg = np.zeros_like(green_contours)\n",
        "      cimg_copy = cimg\n",
        "      centers = np.zeros((5, 2))\n",
        "      for i in range (5):    \n",
        "        M = cv2.moments(cntsSorted[i])\n",
        "        cX = int(M[\"m10\"] / M[\"m00\"])\n",
        "        cY = int(M[\"m01\"] / M[\"m00\"])\n",
        "        centers[i, 0] = cX\n",
        "        centers[i, 1] = cY\n",
        "\n",
        "      centers_cards = centers[:-1,:]\n",
        "      center_badge = centers[-1,:]\n",
        "      player1 = np.argmax(centers_cards[:,1])\n",
        "      player3 = np.argmin(centers_cards[:,1])\n",
        "      player2 = np.argmin(centers_cards[:,0])\n",
        "      player4 = np.argmax(centers_cards[:,0])\n",
        "      players_args = [player1, player2, player3, player4]\n",
        "      centers_ordered = np.array([centers_cards[i,:] for i in players_args])\n",
        "      ordered_contours_cards = [cntsSorted[i] for i in players_args]\n",
        "\n",
        "      cards_only = cv2.drawContours(cimg.copy(), ordered_contours_cards.copy(), -1, color=255, thickness=-1)\n",
        "      cards_and_badge = cv2.drawContours(cimg.copy(), ordered_contours_cards.copy(), -1, color=255, thickness=-1)\n",
        "      cimg_2 = cv2.drawContours(cimg.copy(), cntsSorted, -1, color=255, thickness=-1)\n",
        "\n",
        "      centers_distances = np.array([np.linalg.norm(centers_ordered[i, :]-center_badge) for i in range (4)])\n",
        "      badge_idx = np.argmin(centers_distances)\n",
        "\n",
        "\n",
        "      for iter in range (0, 4) :\n",
        "        \n",
        "        contours_card = get_contours_one_card (img, ordered_contours_cards, iter)\n",
        "\n",
        "        suit1, suit2 = find_suits (contours_card)\n",
        "        digits.append(get_needed_contours (contours_card, 'digits', suit1, suit2))\n",
        "        suits.append(get_needed_contours (contours_card, 'suits', suit1, suit2))\n",
        "    except Exception:\n",
        "      print(image_path)"
      ],
      "execution_count": 117,
      "outputs": [
        {
          "output_type": "stream",
          "text": [
            "game1/13.jpg\n",
            "game1/4.jpg\n",
            "game1/5.jpg\n",
            "game1/7.jpg\n",
            "game3/1.jpg\n",
            "game3/11.jpg\n",
            "game3/12.jpg\n",
            "game3/13.jpg\n",
            "game3/3.jpg\n",
            "game3/6.jpg\n",
            "game3/8.jpg\n",
            "game4/1.jpg\n",
            "game4/11.jpg\n",
            "game4/13.jpg\n",
            "game4/5.jpg\n",
            "game4/8.jpg\n",
            "game4/9.jpg\n",
            "game5/10.jpg\n",
            "game5/2.jpg\n",
            "game5/6.jpg\n",
            "game5/8.jpg\n",
            "game6/11.jpg\n",
            "game6/4.jpg\n",
            "game6/6.jpg\n",
            "game7/1.jpg\n",
            "game7/10.jpg\n",
            "game7/11.jpg\n",
            "game7/12.jpg\n",
            "game7/13.jpg\n",
            "game7/2.jpg\n",
            "game7/3.jpg\n",
            "game7/4.jpg\n",
            "game7/5.jpg\n",
            "game7/6.jpg\n",
            "game7/7.jpg\n",
            "game7/8.jpg\n",
            "game7/9.jpg\n"
          ],
          "name": "stdout"
        }
      ]
    },
    {
      "cell_type": "code",
      "metadata": {
        "id": "7lMvx1v32ZBi"
      },
      "source": [
        "assert(1==2)"
      ],
      "execution_count": null,
      "outputs": []
    },
    {
      "cell_type": "code",
      "metadata": {
        "id": "dNu_nkRpfeys"
      },
      "source": [
        "def get_contours_one_card (img, ordered_contours_cards, num_player):\n",
        "  cimg_copy = np.zeros((img.shape[0], img.shape[1]))\n",
        "\n",
        "  one_card = cv2.drawContours(cimg_copy.copy(), ordered_contours_cards.copy(), num_player, color=255, thickness=-1)\n",
        "  mask_cards_only = one_card < 1\n",
        "  img_cards_only = img.copy()\n",
        "  img_cards_only[mask_cards_only, : ] = 0\n",
        "\n",
        "  greyscale_one_card = cv2.cvtColor(img_cards_only.copy(), cv2.COLOR_BGR2GRAY)\n",
        "\n",
        "  _,img_cards_only_copy = cv2.threshold(greyscale_one_card.copy(),180,255,cv2.THRESH_BINARY)\n",
        "\n",
        "  img_cards_only_copy = np.rot90(img_cards_only_copy, k=num_player)\n",
        "\n",
        "  contours_card, _ = cv2.findContours(img_cards_only_copy, cv2.RETR_LIST, cv2.CHAIN_APPROX_SIMPLE)\n",
        "\n",
        "\n",
        "  contours_card = [contour_ for contour_ in contours_card if cv2.contourArea(contour_)>500]\n",
        "  contours_card = sorted(contours_card, key=lambda x: cv2.contourArea(x))[::-1][1:]\n",
        "\n",
        "  return contours_card"
      ],
      "execution_count": 98,
      "outputs": []
    },
    {
      "cell_type": "code",
      "metadata": {
        "colab": {
          "base_uri": "https://localhost:8080/",
          "height": 425
        },
        "id": "0Yer_2ot2ZG0",
        "outputId": "6e9e3679-f79d-45c5-caa7-b361f7dec4e1"
      },
      "source": [
        "img = cv2.imread('game1/10.jpg')\n",
        "green_contours = get_green_contours(img)\n",
        "kernel = np.ones((5,5),np.uint8)\n",
        "dilation = cv2.dilate(green_contours,kernel,iterations = 2)\n",
        "hull = []\n",
        "\n",
        "contours, _ = cv2.findContours(dilation, cv2.RETR_EXTERNAL, cv2.CHAIN_APPROX_SIMPLE)\n",
        "\n",
        "for i in range(len(contours)):\n",
        "    hull.append(cv2.convexHull(contours[i], False))\n",
        "cntsSorted = sorted(hull, key=lambda x: cv2.arcLength(x, True))[::-1][:5]\n",
        "\n",
        "\n",
        "cimg = np.zeros_like(green_contours)\n",
        "cimg_copy = cimg\n",
        "centers = np.zeros((5, 2))\n",
        "for i in range (5):    \n",
        "  M = cv2.moments(cntsSorted[i])\n",
        "  cX = int(M[\"m10\"] / M[\"m00\"])\n",
        "  cY = int(M[\"m01\"] / M[\"m00\"])\n",
        "  centers[i, 0] = cX\n",
        "  centers[i, 1] = cY\n",
        "\n",
        "print(centers)\n",
        "centers_cards = centers[:-1,:]\n",
        "center_badge = centers[-1,:]\n",
        "player1 = np.argmax(centers_cards[:,1])\n",
        "player3 = np.argmin(centers_cards[:,1])\n",
        "player2 = np.argmin(centers_cards[:,0])\n",
        "player4 = np.argmax(centers_cards[:,0])\n",
        "players_args = [player1, player2, player3, player4]\n",
        "centers_ordered = np.array([centers_cards[i,:] for i in players_args])\n",
        "ordered_contours_cards = [cntsSorted[i] for i in players_args]\n",
        "\n",
        "cards_only = cv2.drawContours(cimg.copy(), ordered_contours_cards.copy(), -1, color=255, thickness=-1)\n",
        "cards_and_badge = cv2.drawContours(cimg.copy(), ordered_contours_cards.copy(), -1, color=255, thickness=-1)\n",
        "cimg_2 = cv2.drawContours(cimg.copy(), cntsSorted, -1, color=255, thickness=-1)\n",
        "\n",
        "centers_distances = np.array([np.linalg.norm(centers_ordered[i, :]-center_badge) for i in range (4)])\n",
        "badge_idx = np.argmin(centers_distances)\n",
        "\n",
        "\n",
        "for iter in range (0, 4) :\n",
        "  \n",
        "  contours_card = get_contours_one_card (img, ordered_contours_cards, iter)\n",
        "\n",
        "  suit1, suit2 = find_suits (contours_card)\n",
        "  digits.append(get_needed_contours (contours_card, 'digits', suit1, suit2))\n",
        "  suits.append(get_needed_contours (contours_card, 'suits', suit1, suit2))\n"
      ],
      "execution_count": 112,
      "outputs": [
        {
          "output_type": "stream",
          "text": [
            "[[2928. 2120.]\n",
            " [1810.  767.]\n",
            " [ 547. 2259.]\n",
            " [1727. 3309.]\n",
            " [ 900. 3711.]]\n",
            "3 2 1\n",
            "3 1 0\n",
            "5 4 2\n",
            "3 2 1\n"
          ],
          "name": "stdout"
        },
        {
          "output_type": "display_data",
          "data": {
            "image/png": "[encoded data removed]",
            "text/plain": [
              "<Figure size 432x288 with 1 Axes>"
            ]
          },
          "metadata": {
            "tags": [],
            "needs_background": "light"
          }
        }
      ]
    },
    {
      "cell_type": "code",
      "metadata": {
        "colab": {
          "base_uri": "https://localhost:8080/",
          "height": 286
        },
        "id": "qOuz2rHAsuxn",
        "outputId": "914118f1-b461-44e0-9e00-1c8bdbf468db"
      },
      "source": [
        "plt.imshow(digits[1])"
      ],
      "execution_count": 114,
      "outputs": [
        {
          "output_type": "execute_result",
          "data": {
            "text/plain": [
              "<matplotlib.image.AxesImage at 0x7f2ac2f8ea50>"
            ]
          },
          "metadata": {
            "tags": []
          },
          "execution_count": 114
        },
        {
          "output_type": "display_data",
          "data": {
            "image/png": "[encoded data removed]",
            "text/plain": [
              "<Figure size 432x288 with 1 Axes>"
            ]
          },
          "metadata": {
            "tags": [],
            "needs_background": "light"
          }
        }
      ]
    },
    {
      "cell_type": "code",
      "metadata": {
        "id": "bVzqZmyaJy5P",
        "colab": {
          "base_uri": "https://localhost:8080/",
          "height": 286
        },
        "outputId": "03dcf661-2551-4f53-cceb-781f30c6d864"
      },
      "source": [
        "kernel = np.ones((5,5),np.uint8)\n",
        "dilation = cv2.dilate(green_contours,kernel,iterations = 2)\n",
        "plt.imshow(dilation)"
      ],
      "execution_count": 57,
      "outputs": [
        {
          "output_type": "execute_result",
          "data": {
            "text/plain": [
              "<matplotlib.image.AxesImage at 0x7f2ac7dc8190>"
            ]
          },
          "metadata": {
            "tags": []
          },
          "execution_count": 57
        },
        {
          "output_type": "display_data",
          "data": {
            "image/png": "[encoded data removed]",
            "text/plain": [
              "<Figure size 432x288 with 1 Axes>"
            ]
          },
          "metadata": {
            "tags": [],
            "needs_background": "light"
          }
        }
      ]
    },
    {
      "cell_type": "code",
      "metadata": {
        "id": "XIhhx2k2U1DZ"
      },
      "source": [
        "hull = []\n",
        "\n",
        "for i in range(len(contours)):\n",
        "    \n",
        "    # creating convex hull object for each contour\n",
        "\n",
        "    hull.append(cv2.convexHull(contours[i], False))\n",
        "\n",
        "\n",
        "cntsSorted = sorted(hull, key=lambda x: cv2.contourArea(x))[::-1]"
      ],
      "execution_count": 59,
      "outputs": []
    },
    {
      "cell_type": "code",
      "metadata": {
        "colab": {
          "base_uri": "https://localhost:8080/"
        },
        "id": "ufH2P_0lXb9K",
        "outputId": "d0faa80d-765c-49ba-a3f8-5d16f389a329"
      },
      "source": [
        "contours_card"
      ],
      "execution_count": 90,
      "outputs": [
        {
          "output_type": "execute_result",
          "data": {
            "text/plain": [
              "[]"
            ]
          },
          "metadata": {
            "tags": []
          },
          "execution_count": 90
        }
      ]
    },
    {
      "cell_type": "code",
      "metadata": {
        "id": "di1fIZdWW0M7"
      },
      "source": [
        "\n",
        "ordered_contours_cards = [cntsSorted[i] for i in players_args]\n",
        "\n",
        "cards_only = cv2.drawContours(cimg.copy(), cntsSorted.copy(), -1, color=255, thickness=-1)"
      ],
      "execution_count": 61,
      "outputs": []
    },
    {
      "cell_type": "code",
      "metadata": {
        "colab": {
          "base_uri": "https://localhost:8080/",
          "height": 166
        },
        "id": "Lw-9zf57XLSc",
        "outputId": "efe3ef2c-a16a-4b5c-cf71-c52b7517d327"
      },
      "source": [
        ""
      ],
      "execution_count": 78,
      "outputs": [
        {
          "output_type": "error",
          "ename": "IndexError",
          "evalue": "ignored",
          "traceback": [
            "\u001b[0;31m---------------------------------------------------------------------------\u001b[0m",
            "\u001b[0;31mIndexError\u001b[0m                                Traceback (most recent call last)",
            "\u001b[0;32m<ipython-input-78-a23e1be7d4a3>\u001b[0m in \u001b[0;36m<module>\u001b[0;34m()\u001b[0m\n\u001b[0;32m----> 1\u001b[0;31m \u001b[0mplt\u001b[0m\u001b[0;34m.\u001b[0m\u001b[0mimshow\u001b[0m\u001b[0;34m(\u001b[0m\u001b[0mcontours_card\u001b[0m\u001b[0;34m[\u001b[0m\u001b[0;36m0\u001b[0m\u001b[0;34m]\u001b[0m\u001b[0;34m)\u001b[0m\u001b[0;34m\u001b[0m\u001b[0;34m\u001b[0m\u001b[0m\n\u001b[0m",
            "\u001b[0;31mIndexError\u001b[0m: list index out of range"
          ]
        }
      ]
    },
    {
      "cell_type": "code",
      "metadata": {
        "id": "7mrrgAVAHGKC",
        "colab": {
          "base_uri": "https://localhost:8080/",
          "height": 564
        },
        "outputId": "28b0cbf9-d2e8-4204-8b20-a525bb560ea8"
      },
      "source": [
        "plt.imshow(ordered_contours_cards[0])"
      ],
      "execution_count": 79,
      "outputs": [
        {
          "output_type": "error",
          "ename": "TypeError",
          "evalue": "ignored",
          "traceback": [
            "\u001b[0;31m---------------------------------------------------------------------------\u001b[0m",
            "\u001b[0;31mTypeError\u001b[0m                                 Traceback (most recent call last)",
            "\u001b[0;32m<ipython-input-79-3022078d5a8a>\u001b[0m in \u001b[0;36m<module>\u001b[0;34m()\u001b[0m\n\u001b[0;32m----> 1\u001b[0;31m \u001b[0mplt\u001b[0m\u001b[0;34m.\u001b[0m\u001b[0mimshow\u001b[0m\u001b[0;34m(\u001b[0m\u001b[0mordered_contours_cards\u001b[0m\u001b[0;34m[\u001b[0m\u001b[0;36m0\u001b[0m\u001b[0;34m]\u001b[0m\u001b[0;34m)\u001b[0m\u001b[0;34m\u001b[0m\u001b[0;34m\u001b[0m\u001b[0m\n\u001b[0m",
            "\u001b[0;32m/usr/local/lib/python3.7/dist-packages/matplotlib/pyplot.py\u001b[0m in \u001b[0;36mimshow\u001b[0;34m(X, cmap, norm, aspect, interpolation, alpha, vmin, vmax, origin, extent, shape, filternorm, filterrad, imlim, resample, url, data, **kwargs)\u001b[0m\n\u001b[1;32m   2649\u001b[0m         \u001b[0mfilternorm\u001b[0m\u001b[0;34m=\u001b[0m\u001b[0mfilternorm\u001b[0m\u001b[0;34m,\u001b[0m \u001b[0mfilterrad\u001b[0m\u001b[0;34m=\u001b[0m\u001b[0mfilterrad\u001b[0m\u001b[0;34m,\u001b[0m \u001b[0mimlim\u001b[0m\u001b[0;34m=\u001b[0m\u001b[0mimlim\u001b[0m\u001b[0;34m,\u001b[0m\u001b[0;34m\u001b[0m\u001b[0;34m\u001b[0m\u001b[0m\n\u001b[1;32m   2650\u001b[0m         resample=resample, url=url, **({\"data\": data} if data is not\n\u001b[0;32m-> 2651\u001b[0;31m         None else {}), **kwargs)\n\u001b[0m\u001b[1;32m   2652\u001b[0m     \u001b[0msci\u001b[0m\u001b[0;34m(\u001b[0m\u001b[0m__ret\u001b[0m\u001b[0;34m)\u001b[0m\u001b[0;34m\u001b[0m\u001b[0;34m\u001b[0m\u001b[0m\n\u001b[1;32m   2653\u001b[0m     \u001b[0;32mreturn\u001b[0m \u001b[0m__ret\u001b[0m\u001b[0;34m\u001b[0m\u001b[0;34m\u001b[0m\u001b[0m\n",
            "\u001b[0;32m/usr/local/lib/python3.7/dist-packages/matplotlib/__init__.py\u001b[0m in \u001b[0;36minner\u001b[0;34m(ax, data, *args, **kwargs)\u001b[0m\n\u001b[1;32m   1563\u001b[0m     \u001b[0;32mdef\u001b[0m \u001b[0minner\u001b[0m\u001b[0;34m(\u001b[0m\u001b[0max\u001b[0m\u001b[0;34m,\u001b[0m \u001b[0;34m*\u001b[0m\u001b[0margs\u001b[0m\u001b[0;34m,\u001b[0m \u001b[0mdata\u001b[0m\u001b[0;34m=\u001b[0m\u001b[0;32mNone\u001b[0m\u001b[0;34m,\u001b[0m \u001b[0;34m**\u001b[0m\u001b[0mkwargs\u001b[0m\u001b[0;34m)\u001b[0m\u001b[0;34m:\u001b[0m\u001b[0;34m\u001b[0m\u001b[0;34m\u001b[0m\u001b[0m\n\u001b[1;32m   1564\u001b[0m         \u001b[0;32mif\u001b[0m \u001b[0mdata\u001b[0m \u001b[0;32mis\u001b[0m \u001b[0;32mNone\u001b[0m\u001b[0;34m:\u001b[0m\u001b[0;34m\u001b[0m\u001b[0;34m\u001b[0m\u001b[0m\n\u001b[0;32m-> 1565\u001b[0;31m             \u001b[0;32mreturn\u001b[0m \u001b[0mfunc\u001b[0m\u001b[0;34m(\u001b[0m\u001b[0max\u001b[0m\u001b[0;34m,\u001b[0m \u001b[0;34m*\u001b[0m\u001b[0mmap\u001b[0m\u001b[0;34m(\u001b[0m\u001b[0msanitize_sequence\u001b[0m\u001b[0;34m,\u001b[0m \u001b[0margs\u001b[0m\u001b[0;34m)\u001b[0m\u001b[0;34m,\u001b[0m \u001b[0;34m**\u001b[0m\u001b[0mkwargs\u001b[0m\u001b[0;34m)\u001b[0m\u001b[0;34m\u001b[0m\u001b[0;34m\u001b[0m\u001b[0m\n\u001b[0m\u001b[1;32m   1566\u001b[0m \u001b[0;34m\u001b[0m\u001b[0m\n\u001b[1;32m   1567\u001b[0m         \u001b[0mbound\u001b[0m \u001b[0;34m=\u001b[0m \u001b[0mnew_sig\u001b[0m\u001b[0;34m.\u001b[0m\u001b[0mbind\u001b[0m\u001b[0;34m(\u001b[0m\u001b[0max\u001b[0m\u001b[0;34m,\u001b[0m \u001b[0;34m*\u001b[0m\u001b[0margs\u001b[0m\u001b[0;34m,\u001b[0m \u001b[0;34m**\u001b[0m\u001b[0mkwargs\u001b[0m\u001b[0;34m)\u001b[0m\u001b[0;34m\u001b[0m\u001b[0;34m\u001b[0m\u001b[0m\n",
            "\u001b[0;32m/usr/local/lib/python3.7/dist-packages/matplotlib/cbook/deprecation.py\u001b[0m in \u001b[0;36mwrapper\u001b[0;34m(*args, **kwargs)\u001b[0m\n\u001b[1;32m    356\u001b[0m                 \u001b[0;34mf\"%(removal)s.  If any parameter follows {name!r}, they \"\u001b[0m\u001b[0;34m\u001b[0m\u001b[0;34m\u001b[0m\u001b[0m\n\u001b[1;32m    357\u001b[0m                 f\"should be pass as keyword, not positionally.\")\n\u001b[0;32m--> 358\u001b[0;31m         \u001b[0;32mreturn\u001b[0m \u001b[0mfunc\u001b[0m\u001b[0;34m(\u001b[0m\u001b[0;34m*\u001b[0m\u001b[0margs\u001b[0m\u001b[0;34m,\u001b[0m \u001b[0;34m**\u001b[0m\u001b[0mkwargs\u001b[0m\u001b[0;34m)\u001b[0m\u001b[0;34m\u001b[0m\u001b[0;34m\u001b[0m\u001b[0m\n\u001b[0m\u001b[1;32m    359\u001b[0m \u001b[0;34m\u001b[0m\u001b[0m\n\u001b[1;32m    360\u001b[0m     \u001b[0;32mreturn\u001b[0m \u001b[0mwrapper\u001b[0m\u001b[0;34m\u001b[0m\u001b[0;34m\u001b[0m\u001b[0m\n",
            "\u001b[0;32m/usr/local/lib/python3.7/dist-packages/matplotlib/cbook/deprecation.py\u001b[0m in \u001b[0;36mwrapper\u001b[0;34m(*args, **kwargs)\u001b[0m\n\u001b[1;32m    356\u001b[0m                 \u001b[0;34mf\"%(removal)s.  If any parameter follows {name!r}, they \"\u001b[0m\u001b[0;34m\u001b[0m\u001b[0;34m\u001b[0m\u001b[0m\n\u001b[1;32m    357\u001b[0m                 f\"should be pass as keyword, not positionally.\")\n\u001b[0;32m--> 358\u001b[0;31m         \u001b[0;32mreturn\u001b[0m \u001b[0mfunc\u001b[0m\u001b[0;34m(\u001b[0m\u001b[0;34m*\u001b[0m\u001b[0margs\u001b[0m\u001b[0;34m,\u001b[0m \u001b[0;34m**\u001b[0m\u001b[0mkwargs\u001b[0m\u001b[0;34m)\u001b[0m\u001b[0;34m\u001b[0m\u001b[0;34m\u001b[0m\u001b[0m\n\u001b[0m\u001b[1;32m    359\u001b[0m \u001b[0;34m\u001b[0m\u001b[0m\n\u001b[1;32m    360\u001b[0m     \u001b[0;32mreturn\u001b[0m \u001b[0mwrapper\u001b[0m\u001b[0;34m\u001b[0m\u001b[0;34m\u001b[0m\u001b[0m\n",
            "\u001b[0;32m/usr/local/lib/python3.7/dist-packages/matplotlib/axes/_axes.py\u001b[0m in \u001b[0;36mimshow\u001b[0;34m(self, X, cmap, norm, aspect, interpolation, alpha, vmin, vmax, origin, extent, shape, filternorm, filterrad, imlim, resample, url, **kwargs)\u001b[0m\n\u001b[1;32m   5624\u001b[0m                               resample=resample, **kwargs)\n\u001b[1;32m   5625\u001b[0m \u001b[0;34m\u001b[0m\u001b[0m\n\u001b[0;32m-> 5626\u001b[0;31m         \u001b[0mim\u001b[0m\u001b[0;34m.\u001b[0m\u001b[0mset_data\u001b[0m\u001b[0;34m(\u001b[0m\u001b[0mX\u001b[0m\u001b[0;34m)\u001b[0m\u001b[0;34m\u001b[0m\u001b[0;34m\u001b[0m\u001b[0m\n\u001b[0m\u001b[1;32m   5627\u001b[0m         \u001b[0mim\u001b[0m\u001b[0;34m.\u001b[0m\u001b[0mset_alpha\u001b[0m\u001b[0;34m(\u001b[0m\u001b[0malpha\u001b[0m\u001b[0;34m)\u001b[0m\u001b[0;34m\u001b[0m\u001b[0;34m\u001b[0m\u001b[0m\n\u001b[1;32m   5628\u001b[0m         \u001b[0;32mif\u001b[0m \u001b[0mim\u001b[0m\u001b[0;34m.\u001b[0m\u001b[0mget_clip_path\u001b[0m\u001b[0;34m(\u001b[0m\u001b[0;34m)\u001b[0m \u001b[0;32mis\u001b[0m \u001b[0;32mNone\u001b[0m\u001b[0;34m:\u001b[0m\u001b[0;34m\u001b[0m\u001b[0;34m\u001b[0m\u001b[0m\n",
            "\u001b[0;32m/usr/local/lib/python3.7/dist-packages/matplotlib/image.py\u001b[0m in \u001b[0;36mset_data\u001b[0;34m(self, A)\u001b[0m\n\u001b[1;32m    697\u001b[0m                 or self._A.ndim == 3 and self._A.shape[-1] in [3, 4]):\n\u001b[1;32m    698\u001b[0m             raise TypeError(\"Invalid shape {} for image data\"\n\u001b[0;32m--> 699\u001b[0;31m                             .format(self._A.shape))\n\u001b[0m\u001b[1;32m    700\u001b[0m \u001b[0;34m\u001b[0m\u001b[0m\n\u001b[1;32m    701\u001b[0m         \u001b[0;32mif\u001b[0m \u001b[0mself\u001b[0m\u001b[0;34m.\u001b[0m\u001b[0m_A\u001b[0m\u001b[0;34m.\u001b[0m\u001b[0mndim\u001b[0m \u001b[0;34m==\u001b[0m \u001b[0;36m3\u001b[0m\u001b[0;34m:\u001b[0m\u001b[0;34m\u001b[0m\u001b[0;34m\u001b[0m\u001b[0m\n",
            "\u001b[0;31mTypeError\u001b[0m: Invalid shape (623, 1, 2) for image data"
          ]
        },
        {
          "output_type": "display_data",
          "data": {
            "image/png": "[encoded data removed]",
            "text/plain": [
              "<Figure size 432x288 with 1 Axes>"
            ]
          },
          "metadata": {
            "tags": [],
            "needs_background": "light"
          }
        }
      ]
    },
    {
      "cell_type": "code",
      "metadata": {
        "id": "4jMKfm3xH7Xg"
      },
      "source": [
        "#iterate a l'ordre\n",
        "#check the problems in exceptions "
      ],
      "execution_count": null,
      "outputs": []
    },
    {
      "cell_type": "code",
      "metadata": {
        "id": "XvIuTR3VH7bY"
      },
      "source": [
        ""
      ],
      "execution_count": null,
      "outputs": []
    },
    {
      "cell_type": "code",
      "metadata": {
        "id": "je87N-qPH7fT"
      },
      "source": [
        ""
      ],
      "execution_count": null,
      "outputs": []
    },
    {
      "cell_type": "code",
      "metadata": {
        "id": "dm-Dk7YZH7iU"
      },
      "source": [
        ""
      ],
      "execution_count": null,
      "outputs": []
    },
    {
      "cell_type": "code",
      "metadata": {
        "id": "IYFsVpiCS_ry"
      },
      "source": [
        ""
      ],
      "execution_count": null,
      "outputs": []
    },
    {
      "cell_type": "code",
      "metadata": {
        "id": "a4liTdBETrzS"
      },
      "source": [
        ""
      ],
      "execution_count": null,
      "outputs": []
    }
  ]
}